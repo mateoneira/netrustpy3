{
 "cells": [
  {
   "cell_type": "code",
   "execution_count": 20,
   "metadata": {},
   "outputs": [],
   "source": [
    "import netrustpy3\n",
    "import networkx as nx"
   ]
  },
  {
   "cell_type": "code",
   "execution_count": 21,
   "metadata": {},
   "outputs": [
    {
     "name": "stdout",
     "output_type": "stream",
     "text": [
      "number of nodes: 34\n",
      "number of edges: 78\n"
     ]
    }
   ],
   "source": [
    "#get sample graph from networkx\n",
    "G = nx.karate_club_graph()\n",
    "edge_list = list(G.edges())\n",
    "print(f\"number of nodes: {G.number_of_nodes()}\")\n",
    "print(f\"number of edges: {G.number_of_edges()}\")"
   ]
  },
  {
   "cell_type": "code",
   "execution_count": 22,
   "metadata": {},
   "outputs": [
    {
     "name": "stdout",
     "output_type": "stream",
     "text": [
      "Number of nodes: 34\n",
      "Number of edges: 78\n"
     ]
    }
   ],
   "source": [
    "G_rust = netrustpy3.Graph.from_edge_list(edge_list)\n",
    "\n",
    "print(f\"Number of nodes: {G_rust.num_v()}\")\n",
    "print(f\"Number of edges: {G_rust.num_e()}\")"
   ]
  },
  {
   "cell_type": "code",
   "execution_count": 24,
   "metadata": {},
   "outputs": [
    {
     "name": "stdout",
     "output_type": "stream",
     "text": [
      "62.2 µs ± 1.32 µs per loop (mean ± std. dev. of 7 runs, 10,000 loops each)\n"
     ]
    }
   ],
   "source": [
    "%%timeit\n",
    "bfs_tree = nx.bfs_tree(G, 0)"
   ]
  },
  {
   "cell_type": "code",
   "execution_count": 23,
   "metadata": {},
   "outputs": [
    {
     "name": "stdout",
     "output_type": "stream",
     "text": [
      "82.7 µs ± 3.8 µs per loop (mean ± std. dev. of 7 runs, 10,000 loops each)\n"
     ]
    }
   ],
   "source": [
    "%%timeit\n",
    "bfs_tree = netrustpy3.bfs(G_rust, 0)"
   ]
  },
  {
   "cell_type": "code",
   "execution_count": 17,
   "metadata": {},
   "outputs": [],
   "source": [
    "bfs_tree = netrustpy3.bfs(G_rust, 0)"
   ]
  },
  {
   "cell_type": "code",
   "execution_count": 18,
   "metadata": {},
   "outputs": [
    {
     "name": "stdout",
     "output_type": "stream",
     "text": [
      "distance from node 1 to node 3: 1\n",
      "path from node 1 to node 3: [0, 3]\n"
     ]
    }
   ],
   "source": [
    "print(f\"distance from node 1 to node 3: {bfs_tree[3][1]}\")\n",
    "\n",
    "# get path from node 1 to node 3\n",
    "path = []\n",
    "node = 3\n",
    "while node != None:\n",
    "    path.append(node)\n",
    "    node = bfs_tree[node][0]\n",
    "\n",
    "print(f\"path from node 1 to node 3: {path[::-1]}\")"
   ]
  },
  {
   "cell_type": "code",
   "execution_count": 13,
   "metadata": {},
   "outputs": [
    {
     "data": {
      "text/plain": [
       "[3, 2]"
      ]
     },
     "execution_count": 13,
     "metadata": {},
     "output_type": "execute_result"
    }
   ],
   "source": []
  },
  {
   "cell_type": "code",
   "execution_count": null,
   "metadata": {},
   "outputs": [],
   "source": []
  }
 ],
 "metadata": {
  "kernelspec": {
   "display_name": "pyo3",
   "language": "python",
   "name": "python3"
  },
  "language_info": {
   "codemirror_mode": {
    "name": "ipython",
    "version": 3
   },
   "file_extension": ".py",
   "mimetype": "text/x-python",
   "name": "python",
   "nbconvert_exporter": "python",
   "pygments_lexer": "ipython3",
   "version": "3.10.14"
  }
 },
 "nbformat": 4,
 "nbformat_minor": 2
}
