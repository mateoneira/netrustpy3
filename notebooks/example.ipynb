{
 "cells": [
  {
   "cell_type": "code",
   "execution_count": 1,
   "metadata": {},
   "outputs": [],
   "source": [
    "import netrustpy3\n",
    "import networkx as nx\n",
    "import igraph as ig\n",
    "import numpy as np"
   ]
  },
  {
   "cell_type": "code",
   "execution_count": 2,
   "metadata": {},
   "outputs": [
    {
     "name": "stdout",
     "output_type": "stream",
     "text": [
      "number of nodes: 100000\n",
      "number of edges: 299991\n"
     ]
    }
   ],
   "source": [
    "#get sample graph from networkx\n",
    "n = 100_000\n",
    "m = 3\n",
    "G = nx.barabasi_albert_graph(n,m)\n",
    "\n",
    "##add random weights to the graph\n",
    "weighted_edge_list = []\n",
    "\n",
    "for u,v in G.edges():\n",
    "    weight = np.random.rand() *100\n",
    "    weighted_edge_list.append((u,v,weight))\n",
    "    #add weight to graph\n",
    "    G[u][v]['weight'] = weight\n",
    "\n",
    "\n",
    "print(f\"number of nodes: {G.number_of_nodes()}\")\n",
    "print(f\"number of edges: {G.number_of_edges()}\")"
   ]
  },
  {
   "cell_type": "code",
   "execution_count": 3,
   "metadata": {},
   "outputs": [
    {
     "name": "stdout",
     "output_type": "stream",
     "text": [
      "Number of nodes: 100000\n",
      "Number of edges: 299991\n"
     ]
    }
   ],
   "source": [
    "G_rust = netrustpy3.Graph.from_weighted_edge_list(weighted_edge_list)\n",
    "\n",
    "print(f\"Number of nodes: {G_rust.num_v()}\")\n",
    "print(f\"Number of edges: {G_rust.num_e()}\")"
   ]
  },
  {
   "cell_type": "code",
   "execution_count": 88,
   "metadata": {},
   "outputs": [],
   "source": [
    "node = G.nodes()"
   ]
  },
  {
   "cell_type": "code",
   "execution_count": 90,
   "metadata": {},
   "outputs": [
    {
     "name": "stdout",
     "output_type": "stream",
     "text": [
      "Number of nodes: 100000\n",
      "Number of edges: 299991\n"
     ]
    }
   ],
   "source": [
    "#created weighted igraph from weighted edge list\n",
    "node = G.nodes()\n",
    "G_igraph = ig.Graph(directed=False)\n",
    "G_igraph.add_vertices(n)\n",
    "G_igraph.add_edges([(u,v) for u,v in G.edges()])\n",
    "G_igraph.es['weight'] = [G[u][v]['weight'] for u,v in G.edges()]\n",
    "\n",
    "print(f\"Number of nodes: {G_igraph.vcount()}\")\n",
    "print(f\"Number of edges: {G_igraph.ecount()}\")"
   ]
  },
  {
   "cell_type": "code",
   "execution_count": 91,
   "metadata": {},
   "outputs": [
    {
     "name": "stdout",
     "output_type": "stream",
     "text": [
      "764 ms ± 17.8 ms per loop (mean ± std. dev. of 7 runs, 1 loop each)\n"
     ]
    }
   ],
   "source": [
    "%%timeit\n",
    "bfs_tree = nx.bfs_tree(G, 0)"
   ]
  },
  {
   "cell_type": "code",
   "execution_count": 92,
   "metadata": {},
   "outputs": [
    {
     "name": "stdout",
     "output_type": "stream",
     "text": [
      "100 ms ± 5.73 ms per loop (mean ± std. dev. of 7 runs, 10 loops each)\n"
     ]
    }
   ],
   "source": [
    "%%timeit\n",
    "bfs_tree = netrustpy3.bfs(G_rust, 0)"
   ]
  },
  {
   "cell_type": "code",
   "execution_count": 93,
   "metadata": {},
   "outputs": [
    {
     "name": "stdout",
     "output_type": "stream",
     "text": [
      "32.2 ms ± 1.4 ms per loop (mean ± std. dev. of 7 runs, 10 loops each)\n"
     ]
    }
   ],
   "source": [
    "%%timeit\n",
    "bfs_tree = ig.Graph.bfs(G_igraph, 0)"
   ]
  },
  {
   "cell_type": "code",
   "execution_count": 95,
   "metadata": {},
   "outputs": [],
   "source": [
    "#disjtrak\n",
    "nodes = list(G.nodes())\n",
    "shortest_path = nx.single_source_dijkstra(G, 0)\n",
    "shortest_path_rust = netrustpy3.single_source_dijkstra(G_rust, 0)\n",
    "shortest_path_igraph = G_igraph.distances(source = 0, target= nodes ,weights='weight', algorithm='dijkstra', mode=\"all\")"
   ]
  },
  {
   "cell_type": "code",
   "execution_count": 96,
   "metadata": {},
   "outputs": [
    {
     "name": "stdout",
     "output_type": "stream",
     "text": [
      "21.913286932798147\n",
      "21.913288116455078\n",
      "21.913286932798147\n"
     ]
    }
   ],
   "source": [
    "node = 10\n",
    "print(shortest_path[0][node])\n",
    "print(shortest_path_rust[node][0])\n",
    "print(shortest_path_igraph[0][node])"
   ]
  },
  {
   "cell_type": "code",
   "execution_count": 97,
   "metadata": {},
   "outputs": [],
   "source": [
    "paths = G_igraph.get_shortest_paths(0, to=nodes, weights='weight', mode='ALL')"
   ]
  },
  {
   "cell_type": "code",
   "execution_count": 98,
   "metadata": {},
   "outputs": [
    {
     "data": {
      "text/plain": [
       "[0, 2, 14517, 1760, 65155, 14, 10]"
      ]
     },
     "execution_count": 98,
     "metadata": {},
     "output_type": "execute_result"
    }
   ],
   "source": [
    "shortest_path[1][node]"
   ]
  },
  {
   "cell_type": "code",
   "execution_count": 99,
   "metadata": {},
   "outputs": [
    {
     "data": {
      "text/plain": [
       "[2, 14517, 1760, 65155, 14, 10]"
      ]
     },
     "execution_count": 99,
     "metadata": {},
     "output_type": "execute_result"
    }
   ],
   "source": [
    "shortest_path_rust[node][1]"
   ]
  },
  {
   "cell_type": "code",
   "execution_count": 100,
   "metadata": {},
   "outputs": [
    {
     "data": {
      "text/plain": [
       "[0, 2, 14517, 1760, 65155, 14, 10]"
      ]
     },
     "execution_count": 100,
     "metadata": {},
     "output_type": "execute_result"
    }
   ],
   "source": [
    "paths[node]"
   ]
  },
  {
   "cell_type": "code",
   "execution_count": 101,
   "metadata": {},
   "outputs": [
    {
     "name": "stdout",
     "output_type": "stream",
     "text": [
      "1.94 s ± 72.8 ms per loop (mean ± std. dev. of 7 runs, 1 loop each)\n"
     ]
    }
   ],
   "source": [
    "%%timeit\n",
    "shortest_path = nx.single_source_dijkstra(G, 0)"
   ]
  },
  {
   "cell_type": "code",
   "execution_count": 102,
   "metadata": {},
   "outputs": [
    {
     "name": "stdout",
     "output_type": "stream",
     "text": [
      "416 ms ± 57 ms per loop (mean ± std. dev. of 7 runs, 1 loop each)\n"
     ]
    }
   ],
   "source": [
    "%%timeit\n",
    "shortest_path_rust = netrustpy3.single_source_dijkstra(G_rust, 0)"
   ]
  },
  {
   "cell_type": "code",
   "execution_count": 103,
   "metadata": {},
   "outputs": [
    {
     "name": "stdout",
     "output_type": "stream",
     "text": [
      "198 ms ± 12.5 ms per loop (mean ± std. dev. of 7 runs, 10 loops each)\n"
     ]
    }
   ],
   "source": [
    "%%timeit\n",
    "shortest_path_igraph = G_igraph.distances(source = 0, target= nodes ,weights='weight', algorithm='dijkstra', mode=\"all\")"
   ]
  },
  {
   "cell_type": "code",
   "execution_count": 106,
   "metadata": {},
   "outputs": [],
   "source": [
    "bfs_tree = netrustpy3.bfs(G_rust, 0)"
   ]
  },
  {
   "cell_type": "code",
   "execution_count": 112,
   "metadata": {},
   "outputs": [
    {
     "ename": "AttributeError",
     "evalue": "'builtins.BfsTree' object has no attribute 'nodes'",
     "output_type": "error",
     "traceback": [
      "\u001b[1;31m---------------------------------------------------------------------------\u001b[0m",
      "\u001b[1;31mAttributeError\u001b[0m                            Traceback (most recent call last)",
      "Cell \u001b[1;32mIn[112], line 1\u001b[0m\n\u001b[1;32m----> 1\u001b[0m \u001b[43mbfs_tree\u001b[49m\u001b[38;5;241;43m.\u001b[39;49m\u001b[43mnodes\u001b[49m\n",
      "\u001b[1;31mAttributeError\u001b[0m: 'builtins.BfsTree' object has no attribute 'nodes'"
     ]
    }
   ],
   "source": [
    "bfs_tree.nodes"
   ]
  },
  {
   "cell_type": "code",
   "execution_count": 107,
   "metadata": {},
   "outputs": [
    {
     "ename": "TypeError",
     "evalue": "'builtins.BfsTree' object is not subscriptable",
     "output_type": "error",
     "traceback": [
      "\u001b[1;31m---------------------------------------------------------------------------\u001b[0m",
      "\u001b[1;31mTypeError\u001b[0m                                 Traceback (most recent call last)",
      "Cell \u001b[1;32mIn[107], line 1\u001b[0m\n\u001b[1;32m----> 1\u001b[0m \u001b[38;5;28mprint\u001b[39m(\u001b[38;5;124mf\u001b[39m\u001b[38;5;124m\"\u001b[39m\u001b[38;5;124mdistance from node 0 to node 3: \u001b[39m\u001b[38;5;132;01m{\u001b[39;00m\u001b[43mbfs_tree\u001b[49m\u001b[43m[\u001b[49m\u001b[38;5;241;43m10000\u001b[39;49m\u001b[43m]\u001b[49m[\u001b[38;5;241m1\u001b[39m]\u001b[38;5;132;01m}\u001b[39;00m\u001b[38;5;124m\"\u001b[39m)\n\u001b[0;32m      3\u001b[0m \u001b[38;5;66;03m# get path from node 1 to node 3\u001b[39;00m\n\u001b[0;32m      4\u001b[0m path \u001b[38;5;241m=\u001b[39m []\n",
      "\u001b[1;31mTypeError\u001b[0m: 'builtins.BfsTree' object is not subscriptable"
     ]
    }
   ],
   "source": [
    "print(f\"distance from node 0 to node 3: {bfs_tree[10000][1]}\")\n",
    "\n",
    "# get path from node 1 to node 3\n",
    "path = []\n",
    "node = 10000\n",
    "while node != None:\n",
    "    path.append(node)\n",
    "    node = bfs_tree[node][0]\n",
    "\n",
    "print(f\"path from node 1 to node 3: {path[::-1]}\")"
   ]
  }
 ],
 "metadata": {
  "kernelspec": {
   "display_name": "pyo3",
   "language": "python",
   "name": "python3"
  },
  "language_info": {
   "codemirror_mode": {
    "name": "ipython",
    "version": 3
   },
   "file_extension": ".py",
   "mimetype": "text/x-python",
   "name": "python",
   "nbconvert_exporter": "python",
   "pygments_lexer": "ipython3",
   "version": "3.10.14"
  }
 },
 "nbformat": 4,
 "nbformat_minor": 2
}
